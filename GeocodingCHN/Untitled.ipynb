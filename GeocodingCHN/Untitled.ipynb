{
 "cells": [
  {
   "cell_type": "code",
   "execution_count": 1,
   "id": "59cd157b",
   "metadata": {},
   "outputs": [],
   "source": [
    "import AddressMatching"
   ]
  },
  {
   "cell_type": "code",
   "execution_count": 5,
   "id": "0576c574",
   "metadata": {},
   "outputs": [
    {
     "name": "stdout",
     "output_type": "stream",
     "text": [
      "Address(provinceId=370000000000, province=山东省, cityId=370100000000, city=济南市, districtId=370114000000, district=章丘区, streetId=None, street=None, townId=None, town=None, villageId=None, village=None, road=None, roadNum=None, buildingNum=None, text=)\n"
     ]
    }
   ],
   "source": [
    "text = '章丘'\n",
    "address_nor = AddressMatching.normalizing(text)\n",
    "print(address_nor)"
   ]
  },
  {
   "cell_type": "code",
   "execution_count": 6,
   "id": "22dc2f61",
   "metadata": {},
   "outputs": [
    {
     "name": "stdout",
     "output_type": "stream",
     "text": [
      "0.0\n"
     ]
    }
   ],
   "source": [
    "address_nor = AddressMatching.similarity(text,text)\n",
    "print(address_nor)"
   ]
  },
  {
   "cell_type": "code",
   "execution_count": null,
   "id": "931d00d3",
   "metadata": {},
   "outputs": [],
   "source": []
  }
 ],
 "metadata": {
  "kernelspec": {
   "display_name": "geocoding",
   "language": "python",
   "name": "geocoding"
  },
  "language_info": {
   "codemirror_mode": {
    "name": "ipython",
    "version": 3
   },
   "file_extension": ".py",
   "mimetype": "text/x-python",
   "name": "python",
   "nbconvert_exporter": "python",
   "pygments_lexer": "ipython3",
   "version": "3.8.0"
  }
 },
 "nbformat": 4,
 "nbformat_minor": 5
}
